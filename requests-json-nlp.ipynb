{
 "cells": [
  {
   "cell_type": "markdown",
   "metadata": {},
   "source": [
    "# Web Mining and Applied NLP (44-620)\n",
    "\n",
    "## Requests, JSON, and NLP\n",
    "\n",
    "### Student Name:Sushma Pamidi\n",
    "\n",
    "## Github Link:\n",
    "https://github.com/pamidisushma02/Module4-Assignment\n",
    "\n",
    "https://github.com/pamidisushma02/Module4-Assignment/blob/master/requests-json-nlp.html\n",
    "\n",
    "https://github.com/pamidisushma02/Module4-Assignment/blob/master/requests-json-nlp.ipynb\n",
    "\n",
    "\n",
    "Perform the tasks described in the Markdown cells below.  When you have completed the assignment make sure your code cells have all been run (and have output beneath them) and ensure you have committed and pushed ALL of your changes to your assignment repository.\n",
    "\n",
    "Make sure you have [installed spaCy and its pipeline](https://spacy.io/usage#quickstart) and [spaCyTextBlob](https://spacy.io/universe/project/spacy-textblob)\n",
    "\n",
    "Every question that requires you to write code will have a code cell underneath it; you may either write your entire solution in that cell or write it in a python file (`.py`), then import and run the appropriate code to answer the question.\n",
    "\n",
    "This assignment requires that you write additional files (either JSON or pickle files); make sure to submit those files in your repository as well."
   ]
  },
  {
   "cell_type": "markdown",
   "metadata": {},
   "source": [
    "1. The following code accesses the [lyrics.ovh](https://lyricsovh.docs.apiary.io/#reference/0/lyrics-of-a-song/search) public api, searches for the lyrics of a song, and stores it in a dictionary object.  Write the resulting json to a file (either a JSON file or a pickle file; you choose). You will read in the contents of this file for future questions so we do not need to frequently access the API."
   ]
  },
  {
   "cell_type": "code",
   "execution_count": 5,
   "metadata": {},
   "outputs": [
    {
     "name": "stdout",
     "output_type": "stream",
     "text": [
      "<Response [200]>\n",
      "[\n",
      "  {\n",
      "    \"title\": \"Sonnet 1: From fairest creatures we desire increase\",\n",
      "    \"author\": \"William Shakespeare\",\n",
      "    \"lines\": [\n",
      "      \"From fairest creatures we desire increase,\",\n",
      "      \"That thereby beauty's rose might never die,\",\n",
      "      \"But as the riper should by time decease,\",\n",
      "      \"His tender heir might bear his memory:\",\n",
      "      \"But thou contracted to thine own bright eyes,\",\n",
      "      \"Feed'st thy light's flame with self-substantial fuel,\",\n",
      "      \"Making a famine where abundance lies,\",\n",
      "      \"Thy self thy foe, to thy sweet self too cruel:\",\n",
      "      \"Thou that art now the world's fresh ornament,\",\n",
      "      \"And only herald to the gaudy spring,\",\n",
      "      \"Within thine own bud buriest thy content,\",\n",
      "      \"And tender churl mak'st waste in niggarding:\",\n",
      "      \"  Pity the world, or else this glutton be,\",\n",
      "      \"  To eat the world's due, by the grave and thee.\"\n",
      "    ],\n",
      "    \"linecount\": \"14\"\n",
      "  }\n",
      "]\n",
      "<class 'str'>\n",
      "[{'title': 'Sonnet 1: From fairest creatures we desire increase', 'author': 'William Shakespeare', 'lines': ['From fairest creatures we desire increase,', \"That thereby beauty's rose might never die,\", 'But as the riper should by time decease,', 'His tender heir might bear his memory:', 'But thou contracted to thine own bright eyes,', \"Feed'st thy light's flame with self-substantial fuel,\", 'Making a famine where abundance lies,', 'Thy self thy foe, to thy sweet self too cruel:', \"Thou that art now the world's fresh ornament,\", 'And only herald to the gaudy spring,', 'Within thine own bud buriest thy content,', \"And tender churl mak'st waste in niggarding:\", '  Pity the world, or else this glutton be,', \"  To eat the world's due, by the grave and thee.\"], 'linecount': '14'}]\n",
      "<class 'list'>\n",
      "['From fairest creatures we desire increase,', \"That thereby beauty's rose might never die,\", 'But as the riper should by time decease,', 'His tender heir might bear his memory:', 'But thou contracted to thine own bright eyes,', \"Feed'st thy light's flame with self-substantial fuel,\", 'Making a famine where abundance lies,', 'Thy self thy foe, to thy sweet self too cruel:', \"Thou that art now the world's fresh ornament,\", 'And only herald to the gaudy spring,', 'Within thine own bud buriest thy content,', \"And tender churl mak'st waste in niggarding:\", '  Pity the world, or else this glutton be,', \"  To eat the world's due, by the grave and thee.\"]\n",
      "From fairest creatures we desire increase,That thereby beauty's rose might never die,But as the riper should by time decease,His tender heir might bear his memory:But thou contracted to thine own bright eyes,Feed'st thy light's flame with self-substantial fuel,Making a famine where abundance lies,Thy self thy foe, to thy sweet self too cruel:Thou that art now the world's fresh ornament,And only herald to the gaudy spring,Within thine own bud buriest thy content,And tender churl mak'st waste in niggarding:  Pity the world, or else this glutton be,  To eat the world's due, by the grave and thee.\n"
     ]
    },
    {
     "data": {
      "text/plain": [
       "str"
      ]
     },
     "execution_count": 5,
     "metadata": {},
     "output_type": "execute_result"
    }
   ],
   "source": [
    "import requests\n",
    "import json\n",
    "\n",
    "AUTHOR='Shakespeare'\n",
    "TITLE = 'Sonnet 1:'\n",
    "\n",
    "URL = f'https://poetrydb.org/author,title/{AUTHOR};{TITLE}'\n",
    "\n",
    "print(requests.get(URL))\n",
    "\n",
    "response_body = requests.get(URL).text\n",
    "print(response_body)\n",
    "print(type(response_body))\n",
    "\n",
    "activity = json.loads(response_body)\n",
    "print(activity)\n",
    "print(type(activity))\n",
    "print(activity[0]['lines'])\n",
    "type(activity[0]['lines'])\n",
    "\n",
    "Poem = ''.join(activity[0]['lines'])\n",
    "print(Poem)\n",
    "type(Poem)"
   ]
  },
  {
   "cell_type": "markdown",
   "metadata": {},
   "source": [
    "2. Read in the contents of your file.  Print the lyrics of the song (not the entire dictionary!) and use spaCyTextBlob to perform sentiment analysis on the lyrics.  Print the polarity score of the sentiment analysis.  Given that the range of the polarity score is `[-1.0,1.0]` which corresponds to how positive or negative the text in question is, do you think the lyrics have a more positive or negative connotaion?  Answer this question in a comment in your code cell."
   ]
  },
  {
   "cell_type": "code",
   "execution_count": 7,
   "metadata": {},
   "outputs": [
    {
     "name": "stdout",
     "output_type": "stream",
     "text": [
      "0.28409090909090906\n",
      "0.6522727272727273\n",
      "[(['rose'], 0.6, 0.95, None), (['own'], 0.6, 1.0, None), (['bright'], 0.7000000000000001, 0.7999999999999999, None), (['light'], 0.4, 0.7, None), (['sweet'], 0.35, 0.65, None), (['fresh'], 0.3, 0.5, None), (['only'], 0.0, 1.0, None), (['own'], 0.6, 1.0, None), (['waste'], -0.2, 0.0, None), (['pity'], -0.1, 0.2, None), (['due'], -0.125, 0.375, None)]\n"
     ]
    }
   ],
   "source": [
    "import spacy\n",
    "from spacytextblob.spacytextblob import SpacyTextBlob\n",
    "\n",
    "from textblob import TextBlob\n",
    "text = Poem\n",
    "blob = TextBlob(text)\n",
    "\n",
    "print(blob.sentiment_assessments.polarity)\n",
    "\n",
    "print(blob.sentiment_assessments.subjectivity)\n",
    "\n",
    "print(blob.sentiment_assessments.assessments)\n",
    "\n",
    "#The lyrics have a more positive connotation\n"
   ]
  },
  {
   "cell_type": "markdown",
   "metadata": {},
   "source": [
    "3. Write a function that takes an artist, song, and filename, accesses the lyrics.ovh api to get the song lyrics, and writes the results to the specified filename.  Test this function by getting the lyrics to any four songs of your choice and storing them in different files."
   ]
  },
  {
   "cell_type": "code",
   "execution_count": 8,
   "metadata": {},
   "outputs": [
    {
     "name": "stdout",
     "output_type": "stream",
     "text": [
      "From fairest creatures we desire increase,That thereby beauty's rose might never die,But as the riper should by time decease,His tender heir might bear his memory:But thou contracted to thine own bright eyes,Feed'st thy light's flame with self-substantial fuel,Making a famine where abundance lies,Thy self thy foe, to thy sweet self too cruel:Thou that art now the world's fresh ornament,And only herald to the gaudy spring,Within thine own bud buriest thy content,And tender churl mak'st waste in niggarding:  Pity the world, or else this glutton be,  To eat the world's due, by the grave and thee.\n",
      "=================\n",
      "PRIMEVAL my love for the woman I love,O bride! O wife! more resistless, more enduring than I can tell, the thought of you!Then separate, as disembodied, the purest born,The ethereal, the last athletic reality, my consolation,I ascend—I float in the regions of your love, O man,O sharer of my roving life.\n",
      "=================\n",
      "\"Delicta juventutis et ignorantius ejus, quoesumus ne memineris, Domine.\"I left, to earth, a little maiden fair,With locks of gold, and eyes that shamed the light;I prayed that God might have her in His careAnd sight.Earth's love was false; her voice, a siren's song;(Sweet mother-earth was but a lying name)The path she showed was but the path of wrongAnd shame.\"Cast her not out!\" I cry. God's kind words come --\"Her future is with Me, as was her past;It shall be My good will to bring her homeAt last.\"\n",
      "=================\n",
      "I am weary of lying within the chaseWhen the knights are meeting in market-place.Nay, go not thou to the red-roofed townLest the hoofs of the war-horse tread thee down.But I would not go where the Squires ride,I would only walk by my Lady's side.Alack! and alack! thou art overbold,A Forester's son may not eat off gold.Will she love me the less that my Father is seenEach Martinmas day in a doublet green?Perchance she is sewing at tapestrie,Spindle and loom are not meet for thee.Ah, if she is working the arras brightI might ravel the threads by the fire-light.Perchance she is hunting of the deer,How could you follow o'er hill and mere?Ah, if she is riding with the court,I might run beside her and wind the morte.Perchance she is kneeling in St. Denys,(On her soul may our Lady have gramercy!)Ah, if she is praying in lone chapelle,I might swing the censer and ring the bell.Come in, my son, for you look sae pale,The father shall fill thee a stoup of ale.But who are these knights in bright array?Is it a pageant the rich folks play?'T is the King of England from over sea,Who has come unto visit our fair countrie.But why does the curfew toll sae low?And why do the mourners walk a-row?O 't is Hugh of Amiens my sister's sonWho is lying stark, for his day is done.Nay, nay, for I see white lilies clear,It is no strong man who lies on the bier.O 't is old Dame Jeannette that kept the hall,I knew she would die at the autumn fall.Dame Jeannette had not that gold-brown hair,Old Jeannette was not a maiden fair.O 't is none of our kith and none of our kin,(Her soul may our Lady assoil from sin!)But I hear the boy's voice chaunting sweet,'Elle est morte, la Marguerite.'Come in, my son, and lie on the bed,And let the dead folk bury their dead.O mother, you know I loved her true:O mother, hath one grave room for two?\n",
      "=================\n"
     ]
    }
   ],
   "source": [
    "import requests\n",
    "import json\n",
    "\n",
    "def poems(author, title, file):\n",
    "    URL = f'https://poetrydb.org/author,title/{author};{title}'\n",
    "    #print(requests.get(URL))\n",
    "    file = requests.get(URL).text\n",
    "    activity = json.loads(file)\n",
    "    \n",
    "    global Poem \n",
    "    Poem = ''.join(activity[0]['lines'])\n",
    "    \n",
    "    \n",
    "poems('Shakespeare', 'Sonnet 1:', 'Shakespeare_Sonnet')  #calling the function to write to Shakespeare_Sonnet File\n",
    "Shakespeare_Sonnet = Poem\n",
    "print(Shakespeare_Sonnet)\n",
    "print(\"=================\")\n",
    "\n",
    "poems('Walt Whitman', 'Primeval', 'Walt_Primeval')\n",
    "Walt_Primeval = Poem\n",
    "print(Walt_Primeval)\n",
    "print(\"=================\")\n",
    "\n",
    "poems('John McCrae', 'The Hope', 'John_hope')\n",
    "John_hope = Poem\n",
    "print(John_hope)\n",
    "print(\"=================\")\n",
    "\n",
    "poems('Oscar Wilde', 'Ballade', 'Oscar_Ballade')\n",
    "Oscar_Ballade = Poem\n",
    "print(Oscar_Ballade)\n",
    "print(\"=================\")\n",
    "\n"
   ]
  },
  {
   "cell_type": "markdown",
   "metadata": {},
   "source": [
    "4. Write a function that takes the name of a file that contains song lyrics, loads the file, performs sentiment analysis, and returns the polarity score.  Use this function to print the polarity scores (with the name of the song) of the three files you created in question 3.  Does the reported polarity match your understanding of the song's lyrics? Why or why not do you think that might be?  Answer the questions in either a comment in the code cell or a markdown cell under the code cell."
   ]
  },
  {
   "cell_type": "code",
   "execution_count": 30,
   "metadata": {},
   "outputs": [
    {
     "name": "stdout",
     "output_type": "stream",
     "text": [
      "From fairest creatures we desire increase,That thereby beauty's rose might never die,But as the riper should by time decease,His tender heir might bear his memory:But thou contracted to thine own bright eyes,Feed'st thy light's flame with self-substantial fuel,Making a famine where abundance lies,Thy self thy foe, to thy sweet self too cruel:Thou that art now the world's fresh ornament,And only herald to the gaudy spring,Within thine own bud buriest thy content,And tender churl mak'st waste in niggarding:  Pity the world, or else this glutton be,  To eat the world's due, by the grave and thee.\n",
      "0.28409090909090906\n",
      "0.6522727272727273\n",
      "[(['rose'], 0.6, 0.95, None), (['own'], 0.6, 1.0, None), (['bright'], 0.7000000000000001, 0.7999999999999999, None), (['light'], 0.4, 0.7, None), (['sweet'], 0.35, 0.65, None), (['fresh'], 0.3, 0.5, None), (['only'], 0.0, 1.0, None), (['own'], 0.6, 1.0, None), (['waste'], -0.2, 0.0, None), (['pity'], -0.1, 0.2, None), (['due'], -0.125, 0.375, None)]\n",
      "=====================================\n",
      "PRIMEVAL my love for the woman I love,O bride! O wife! more resistless, more enduring than I can tell, the thought of you!Then separate, as disembodied, the purest born,The ethereal, the last athletic reality, my consolation,I ascend—I float in the regions of your love, O man,O sharer of my roving life.\n",
      "0.45625\n",
      "0.4533333333333333\n",
      "[(['love', '!', '!'], 0.78125, 0.6, None), (['more'], 0.5, 0.5, None), (['more'], 0.5, 0.5, None), (['last'], 0.0, 0.06666666666666667, None), (['love'], 0.5, 0.6, None)]\n",
      "=====================================\n",
      "\"Delicta juventutis et ignorantius ejus, quoesumus ne memineris, Domine.\"I left, to earth, a little maiden fair,With locks of gold, and eyes that shamed the light;I prayed that God might have her in His careAnd sight.Earth's love was false; her voice, a siren's song;(Sweet mother-earth was but a lying name)The path she showed was but the path of wrongAnd shame.\"Cast her not out!\" I cry. God's kind words come --\"Her future is with Me, as was her past;It shall be My good will to bring her homeAt last.\"\n",
      "0.13906249999999998\n",
      "0.4239583333333334\n",
      "[(['left'], 0.0, 0.0, None), (['little'], -0.1875, 0.5, None), (['love'], 0.5, 0.6, None), (['false', '!'], -0.5000000000000001, 0.6, None), (['kind'], 0.6, 0.9, None), (['future'], 0.0, 0.125, None), (['good'], 0.7, 0.6000000000000001, None), (['last'], 0.0, 0.06666666666666667, None)]\n",
      "=====================================\n",
      "I am weary of lying within the chaseWhen the knights are meeting in market-place.Nay, go not thou to the red-roofed townLest the hoofs of the war-horse tread thee down.But I would not go where the Squires ride,I would only walk by my Lady's side.Alack! and alack! thou art overbold,A Forester's son may not eat off gold.Will she love me the less that my Father is seenEach Martinmas day in a doublet green?Perchance she is sewing at tapestrie,Spindle and loom are not meet for thee.Ah, if she is working the arras brightI might ravel the threads by the fire-light.Perchance she is hunting of the deer,How could you follow o'er hill and mere?Ah, if she is riding with the court,I might run beside her and wind the morte.Perchance she is kneeling in St. Denys,(On her soul may our Lady have gramercy!)Ah, if she is praying in lone chapelle,I might swing the censer and ring the bell.Come in, my son, for you look sae pale,The father shall fill thee a stoup of ale.But who are these knights in bright array?Is it a pageant the rich folks play?'T is the King of England from over sea,Who has come unto visit our fair countrie.But why does the curfew toll sae low?And why do the mourners walk a-row?O 't is Hugh of Amiens my sister's sonWho is lying stark, for his day is done.Nay, nay, for I see white lilies clear,It is no strong man who lies on the bier.O 't is old Dame Jeannette that kept the hall,I knew she would die at the autumn fall.Dame Jeannette had not that gold-brown hair,Old Jeannette was not a maiden fair.O 't is none of our kith and none of our kin,(Her soul may our Lady assoil from sin!)But I hear the boy's voice chaunting sweet,'Elle est morte, la Marguerite.'Come in, my son, and lie on the bed,And let the dead folk bury their dead.O mother, you know I loved her true:O mother, hath one grave room for two?\n",
      "0.20320512820512823\n",
      "0.576923076923077\n",
      "[(['only', '!', '!'], 0.0, 1.0, None), (['love'], 0.5, 0.6, None), (['less'], -0.16666666666666666, 0.06666666666666667, None), (['bright'], 0.7000000000000001, 0.7999999999999999, None), (['rich'], 0.375, 0.75, None), (['fair'], 0.7, 0.9, None), (['stark'], -0.2, 0.6, None), (['white'], 0.0, 0.0, None), (['no', 'strong'], -0.21666666666666665, 0.7333333333333333, None), (['old'], 0.1, 0.2, None), (['sweet'], 0.35, 0.65, None), (['dead'], -0.2, 0.4, None), (['loved'], 0.7, 0.8, None)]\n",
      "=====================================\n"
     ]
    }
   ],
   "source": [
    "import spacy\n",
    "from spacytextblob.spacytextblob import SpacyTextBlob\n",
    "\n",
    "\n",
    "def Sensitivity (file):\n",
    "    text = file\n",
    "    print(text)\n",
    "    blob = TextBlob(text)\n",
    "    print(blob.sentiment_assessments.polarity)\n",
    "    print(blob.sentiment_assessments.subjectivity)\n",
    "    print(blob.sentiment_assessments.assessments)\n",
    "    print(\"=====================================\")\n",
    "\n",
    "Sensitivity (Shakespeare_Sonnet)\n",
    "\n",
    "Sensitivity (Walt_Primeval)\n",
    "\n",
    "Sensitivity (John_hope)\n",
    "\n",
    "Sensitivity (Oscar_Ballade)\n",
    "\n",
    "#Yes, the reported polarity matches my understanding of the lyrics.The tone of the lyrics do not have any negative words conveying negative polarity.\n",
    "#Reading the lyrics the polarity doesn't surprise me and is in line with what I expected\n"
   ]
  }
 ],
 "metadata": {
  "kernelspec": {
   "display_name": "Python 3 (ipykernel)",
   "language": "python",
   "name": "python3"
  },
  "language_info": {
   "codemirror_mode": {
    "name": "ipython",
    "version": 3
   },
   "file_extension": ".py",
   "mimetype": "text/x-python",
   "name": "python",
   "nbconvert_exporter": "python",
   "pygments_lexer": "ipython3",
   "version": "3.9.13"
  }
 },
 "nbformat": 4,
 "nbformat_minor": 4
}
